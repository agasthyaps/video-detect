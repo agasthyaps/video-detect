{
 "cells": [
  {
   "cell_type": "code",
   "execution_count": 1,
   "metadata": {},
   "outputs": [],
   "source": [
    "from googleapiclient.discovery import build\n",
    "from googleapiclient.errors import HttpError\n",
    "# from google_auth_oauthlib.tools import argparser\n",
    "import pandas as pd\n",
    "from urllib.parse import urlparse, parse_qs\n",
    "import isodate"
   ]
  },
  {
   "cell_type": "code",
   "execution_count": 14,
   "metadata": {},
   "outputs": [],
   "source": [
    "# load data\n",
    "urls1 = pd.read_csv('video_urls1561574859.551679.csv')\n",
    "urls2 = pd.read_csv('faculty_vid_urls.csv').dropna()\n",
    "\n",
    "yt_crit1 = urls1['url'].map(lambda x: \"youtube\" in x)\n",
    "users1 = urls1['url'].map(lambda x: \"user\" in x or \"channel\" in x or \"/c/\" in x)\n",
    "\n",
    "yt_crit2 = urls2['url'].map(lambda x: \"youtube\" in x)\n",
    "users2 = urls2['url'].map(lambda x: \"user\" in x or \"channel\" in x or \"/c/\" in x)\n",
    "\n",
    "data1 = urls1[yt_crit1 & ~users1]\n",
    "\n",
    "data2 = urls2[yt_crit2 & ~users2]\n",
    "\n",
    "data = pd.concat([data1,data2])"
   ]
  },
  {
   "cell_type": "code",
   "execution_count": 19,
   "metadata": {},
   "outputs": [
    {
     "data": {
      "text/plain": [
       "(3864, 4)"
      ]
     },
     "execution_count": 19,
     "metadata": {},
     "output_type": "execute_result"
    }
   ],
   "source": [
    "data = data.drop_duplicates(subset=\"url\")\n",
    "data.shape"
   ]
  },
  {
   "cell_type": "code",
   "execution_count": 2,
   "metadata": {},
   "outputs": [],
   "source": [
    "# extract video id from url\n",
    "def video_id(value):\n",
    "    \"\"\"\n",
    "    Examples:\n",
    "    - http://youtu.be/SA2iWivDJiE\n",
    "    - http://www.youtube.com/watch?v=_oPAwA_Udwc&feature=feedu\n",
    "    - http://www.youtube.com/embed/SA2iWivDJiE\n",
    "    - http://www.youtube.com/v/SA2iWivDJiE?version=3&amp;hl=en_US\n",
    "    \"\"\"\n",
    "    url_data = urlparse(value)\n",
    "    query = parse_qs(url_data.query)\n",
    "    \n",
    "    if url_data.hostname == 'youtu.be':\n",
    "        ytid = url_data.path[1:]\n",
    "    elif \"v\" in query.keys():\n",
    "        ytid = query[\"v\"][0]\n",
    "    elif 'embed' in url_data.path or '/v/' in url_data.path:\n",
    "        ytid = url_data.path.split('/')[2]\n",
    "    else:\n",
    "        ytid = ''\n",
    "    return ytid\n",
    "\n",
    "# extract playlist id from url\n",
    "def playlist_id(value):\n",
    "    url_data = urlparse(value)\n",
    "    query = parse_qs(url_data.query)\n",
    "    if \"list\" in query.keys():\n",
    "        plid = query['list'][0]\n",
    "    elif \"view_play_list\" in query.keys():\n",
    "        plid = query[\"view_play_list\"][0]\n",
    "    else:\n",
    "        plid = \"\"\n",
    "    return plid"
   ]
  },
  {
   "cell_type": "code",
   "execution_count": 25,
   "metadata": {},
   "outputs": [],
   "source": [
    "data['video_id'] = [video_id(i) for i in data.url]\n",
    "data['playlist_id'] = [playlist_id(i) for i in data.url]"
   ]
  },
  {
   "cell_type": "code",
   "execution_count": 8,
   "metadata": {},
   "outputs": [],
   "source": [
    "pl_data = data[data.playlist_id != \"\"]\n",
    "reg_data = data[data.playlist_id == \"\"]"
   ]
  },
  {
   "cell_type": "code",
   "execution_count": 9,
   "metadata": {},
   "outputs": [],
   "source": [
    "reg_data = reg_data[reg_data.video_id != \"\"]"
   ]
  },
  {
   "cell_type": "code",
   "execution_count": 10,
   "metadata": {},
   "outputs": [],
   "source": [
    "entities = reg_data.name.unique()"
   ]
  },
  {
   "cell_type": "code",
   "execution_count": 1,
   "metadata": {},
   "outputs": [],
   "source": [
    "stats = youtube.videos().list(part='statistics',id=\"-3y1E32gUZ8\").execute()"
   ]
  },
  {
   "cell_type": "code",
   "execution_count": 3,
   "metadata": {},
   "outputs": [],
   "source": [
    "def paginate_list(resource, **kwargs):\n",
    "    \"\"\"\n",
    "    Scans through all pages and joins records into a single list\n",
    "    resource: service resource, e.g. something like service.activity()\n",
    "    \"\"\"\n",
    "    kwargs['maxResults'] = 50\n",
    "    page = resource.list(**kwargs).execute()\n",
    "    items = page['items']\n",
    "    while 'nextPageToken' in page:\n",
    "        kwargs['pageToken'] = page['nextPageToken']\n",
    "        page = resource.list(**kwargs).execute()\n",
    "        items.extend(page['items'])\n",
    "    return items\n",
    "\n",
    "def get_playlist_items_for_upload_id(yt, uploadId):\n",
    "    \"\"\"\n",
    "    Get playlist item metadata for upload_id\n",
    "    \"\"\"\n",
    "    kwargs = dict(\n",
    "        playlistId=uploadId,\n",
    "        part='snippet',\n",
    "    )\n",
    "    return paginate_list(yt.playlistItems(),**kwargs)\n",
    "\n",
    "def get_video_ids_for_playlist_items(playlistItems):\n",
    "    \"\"\"\n",
    "    playlistItems is a list of playlistItem records\n",
    "    \"\"\"\n",
    "    return [item['snippet']['resourceId']['videoId'] for item in playlistItems]"
   ]
  },
  {
   "cell_type": "code",
   "execution_count": 136,
   "metadata": {},
   "outputs": [],
   "source": [
    "def get_video_metadata(df,entities,api_key,start = 0):\n",
    "    \n",
    "    YOUTUBE_API_SERVICE_NAME = \"youtube\"\n",
    "    YOUTUBE_API_VERSION = \"v3\"\n",
    "\n",
    "    youtube = build(YOUTUBE_API_SERVICE_NAME, YOUTUBE_API_VERSION,developerKey=api_key)\n",
    "    \n",
    "#     entities = df.name.unique()\n",
    "    video_dict = {}\n",
    "    \n",
    "    for name in entities[start:]:\n",
    "        pubdate = []\n",
    "        duration = []\n",
    "        has_captions = []\n",
    "        viewCount = []\n",
    "        channelTitle = []\n",
    "        videoTitle = []\n",
    "\n",
    "        print(name)\n",
    "        test = df[df.name==name].copy()\n",
    "        for vid in test.video_id:\n",
    "            try:\n",
    "                stats = youtube.videos().list(part='statistics,contentDetails,snippet',id=vid).execute()\n",
    "            except HttpError as e:\n",
    "                print(e)\n",
    "                return video_dict\n",
    "            if len(stats['items'])>0:\n",
    "                pubdate.append(stats['items'][0]['snippet']['publishedAt'] \\\n",
    "                if 'publishedAt' in stats['items'][0]['snippet'].keys() else \"\")\n",
    "\n",
    "                duration.append(isodate.parse_duration(stats['items'][0]['contentDetails']['duration']).seconds \\\n",
    "                if 'duration' in stats['items'][0]['contentDetails'].keys() else \"\")\n",
    "\n",
    "                has_captions.append(stats['items'][0]['contentDetails']['caption'] \\\n",
    "                if 'caption' in stats['items'][0]['contentDetails'].keys() else \"\")\n",
    "\n",
    "                viewCount.append(stats['items'][0]['statistics']['viewCount'] \\\n",
    "                if 'viewCount' in stats['items'][0]['statistics'].keys() else \"\")\n",
    "\n",
    "                channelTitle.append(stats['items'][0]['snippet']['channelTitle'] \\\n",
    "                if 'channelTitle' in stats['items'][0]['snippet'].keys() else \"\")\n",
    "\n",
    "                videoTitle.append(stats['items'][0]['snippet']['title'] \\\n",
    "                if 'title' in stats['items'][0]['snippet'].keys() else \"\")\n",
    "\n",
    "        test['video_title']=videoTitle\n",
    "        test['channel_title']=channelTitle\n",
    "        test['pubdate']=pubdate\n",
    "        test['duration']=duration\n",
    "        test['has_captions']=has_captions\n",
    "        test['view_count']=viewCount\n",
    "\n",
    "        video_dict[name]=test\n",
    "        print(\"done with\",name)\n",
    "        \n",
    "    return video_dict"
   ]
  },
  {
   "cell_type": "code",
   "execution_count": 64,
   "metadata": {},
   "outputs": [],
   "source": [
    "# vids_from_pls"
   ]
  }
 ],
 "metadata": {
  "kernelspec": {
   "display_name": "Python 3",
   "language": "python",
   "name": "python3"
  },
  "language_info": {
   "codemirror_mode": {
    "name": "ipython",
    "version": 3
   },
   "file_extension": ".py",
   "mimetype": "text/x-python",
   "name": "python",
   "nbconvert_exporter": "python",
   "pygments_lexer": "ipython3",
   "version": "3.6.5"
  }
 },
 "nbformat": 4,
 "nbformat_minor": 2
}
